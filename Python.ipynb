{
 "cells": [
  {
   "cell_type": "markdown",
   "metadata": {
    "id": "m9aMzx_K76Kn"
   },
   "source": [
    "# Знакомство с Python\n",
    "### План знакомства\n",
    "\n",
    "1.   Обсуждаем основные преимущества и недостки языка\n",
    "2.   Смотрим среды разработки и способы установки\n",
    "3.   Базовые типы данных в Python и циклы\n",
    "4.   Функции\n",
    "5.   Структуры Python\n",
    "6.   Генераторы\n"
   ]
  },
  {
   "cell_type": "markdown",
   "metadata": {
    "id": "JRbIopwBkfr-"
   },
   "source": [
    "# Функции для использования на уроке"
   ]
  },
  {
   "cell_type": "markdown",
   "metadata": {
    "id": "9uIhE1RUkpdm"
   },
   "source": [
    "Данная функция считает размер переданной переменной х и выводит его на экран. "
   ]
  },
  {
   "cell_type": "code",
   "execution_count": null,
   "metadata": {
    "id": "TbpgtUQ4kjKr"
   },
   "outputs": [],
   "source": [
    "import sys\n",
    "\n",
    "def get_size(x, level=0, print_res = True):\n",
    "    if print_res:\n",
    "        print('\\t' * level, f'type {x.__class__}, size={sys.getsizeof(x)}, object= {x}')\n",
    "    total_size = sys.getsizeof(x)\n",
    "\n",
    "    if hasattr(x, '__iter__'):\n",
    "        if hasattr(x, 'items'):\n",
    "            for xx in x.items():\n",
    "                total_size += get_size(xx, level + 1)\n",
    "        elif not isinstance(x, str):\n",
    "            for xx in x:\n",
    "                total_size += get_size(xx, level + 1)\n",
    "\n",
    "    return total_size"
   ]
  },
  {
   "cell_type": "markdown",
   "metadata": {
    "id": "Jwxyf38YfUG9"
   },
   "source": [
    "# Среды разработки\n",
    "\n",
    "Для \"Приложений\": PyCharm - https://www.jetbrains.com/pycharm/\n",
    "\n",
    "Файлы типа .py\n",
    "\n",
    "Для \"Анализа\": Jupyter - https://jupyter.org/\n",
    "\n",
    "Файлы типа .ipynb\n",
    "\n",
    "Повесеместное использование он-лайн компиляторов, например: https://colab.research.google.com/"
   ]
  },
  {
   "cell_type": "markdown",
   "metadata": {
    "id": "gDQNtotGgNF3"
   },
   "source": [
    "# Базовые типы данных Python \n",
    "Python - язык с сильной неявной типизацией. Это огромное отличие от C/C++ и других подобных языков.\n",
    "\n",
    "*   Неопределенное значение (None)\n",
    "*   Логическая переменная (bool)\n",
    "*   Числовая переменная (int; float; complex)\n",
    "*   Строка (str)"
   ]
  },
  {
   "cell_type": "code",
   "execution_count": null,
   "metadata": {
    "colab": {
     "base_uri": "https://localhost:8080/"
    },
    "id": "Q7TP-yoUgkzq",
    "outputId": "fca4a179-578d-42db-8832-0a4b936f1124"
   },
   "outputs": [
    {
     "name": "stdout",
     "output_type": "stream",
     "text": [
      "<class 'str'>\n",
      "<class 'int'>\n",
      "Введите число: 5\n",
      "Тип перменной a сразу после ввода был <class 'str'>, а сейчас стал <class 'int'>\n"
     ]
    }
   ],
   "source": [
    "# утиная типизация \n",
    "# объявляем перменную без указания типа\n",
    "a = \"5\"\n",
    "print(type(a)) #str\n",
    "a = 5\n",
    "print(type(a)) #int\n",
    "# тип поменялся в процессе работы\n",
    "\n",
    "a = input(\"Введите число: \")\n",
    "type_a = type(a)\n",
    "a = int(a)\n",
    "print(f'Тип перменной a сразу после ввода был {type_a}, а сейчас стал {type(a)}')"
   ]
  },
  {
   "cell_type": "code",
   "execution_count": null,
   "metadata": {
    "colab": {
     "base_uri": "https://localhost:8080/"
    },
    "id": "_fFIBKn2BJTm",
    "outputId": "d343b345-8c36-4901-8514-31e8575bedf0"
   },
   "outputs": [
    {
     "name": "stdout",
     "output_type": "stream",
     "text": [
      "6\n",
      "<class 'int'>\n"
     ]
    }
   ],
   "source": [
    "b = int(input())\n",
    "print(type(b))"
   ]
  },
  {
   "cell_type": "code",
   "execution_count": null,
   "metadata": {
    "colab": {
     "base_uri": "https://localhost:8080/"
    },
    "id": "jqQAqwjmrHIy",
    "outputId": "2e1cdd7c-c5bf-4a64-b5f9-32973ece6b97"
   },
   "outputs": [
    {
     "name": "stdout",
     "output_type": "stream",
     "text": [
      "0.1+0.1=0.2\n",
      "0.1+0.1+0.1=0.30000000000000004\n"
     ]
    }
   ],
   "source": [
    "#проблемы с числами\n",
    "print(f'0.1+0.1={0.1+0.1}')\n",
    "print(f'0.1+0.1+0.1={0.1+0.1+0.1}')"
   ]
  },
  {
   "cell_type": "code",
   "execution_count": null,
   "metadata": {
    "colab": {
     "base_uri": "https://localhost:8080/"
    },
    "id": "1Jn4v7iKrKwQ",
    "outputId": "44239334-f62f-4c94-da2c-5fc8756f9390"
   },
   "outputs": [
    {
     "name": "stdout",
     "output_type": "stream",
     "text": [
      "5\n",
      "2.23606797749979\n",
      "5.000000000000001\n"
     ]
    }
   ],
   "source": [
    "a = 5\n",
    "print(a)\n",
    "a = a**(1/2)\n",
    "print(a)\n",
    "a = a**2\n",
    "print(a)"
   ]
  },
  {
   "cell_type": "code",
   "execution_count": null,
   "metadata": {
    "colab": {
     "base_uri": "https://localhost:8080/"
    },
    "id": "BS17aRzKiwPu",
    "outputId": "cef52e03-25f5-41fa-9238-ffe221a517fe"
   },
   "outputs": [
    {
     "name": "stdout",
     "output_type": "stream",
     "text": [
      "<class 'complex'>\n",
      "(5+3j)\n",
      "Действительная часть комплексного числа z: 5.0\n",
      "Мнимания часть комплксного числа z: 3.0\n"
     ]
    }
   ],
   "source": [
    "#Для использования комплексных чисел импортируйте cmath\n",
    "import cmath \n",
    "  \n",
    "x = 5\n",
    "y = 3\n",
    "\n",
    "z = complex(x,y); \n",
    "\n",
    "print(type(z))\n",
    "print(z)\n",
    "\n",
    "print (\"Действительная часть комплексного числа z: \",end=\"\") \n",
    "print (z.real) \n",
    "  \n",
    "print (\"Мнимания часть комплксного числа z: \",end=\"\") \n",
    "print (z.imag) "
   ]
  },
  {
   "cell_type": "code",
   "execution_count": null,
   "metadata": {
    "colab": {
     "base_uri": "https://localhost:8080/"
    },
    "id": "Lk24GNFmk3jC",
    "outputId": "5621c6eb-5df9-4639-e23b-cc3af7f955bc"
   },
   "outputs": [
    {
     "name": "stdout",
     "output_type": "stream",
     "text": [
      "Размер целочисленной переменной: 28\n",
      "Размер комплексной переменной: 32\n"
     ]
    }
   ],
   "source": [
    "import sys\n",
    "\n",
    "print(f'Размер целочисленной переменной: {sys.getsizeof(x)}')\n",
    "print(f'Размер комплексной переменной: {sys.getsizeof(z)}')"
   ]
  },
  {
   "cell_type": "code",
   "execution_count": null,
   "metadata": {
    "colab": {
     "base_uri": "https://localhost:8080/"
    },
    "id": "GQ7ZO2qLCAEM",
    "outputId": "284a15ad-fffc-4f68-9943-53d73cbe4ae8"
   },
   "outputs": [
    {
     "data": {
      "text/plain": [
       "100000000000000000000000000000000000000000000000000000000000000000000000000000000000000000000000000000000000000000000000000000000000000000000000000000000000000000000000000000000000000000000000000000000000000000000000000000000000000000000000000000000000000000000000000000000000000000000000000000000000000000000000000"
      ]
     },
     "execution_count": 14,
     "metadata": {
      "tags": []
     },
     "output_type": "execute_result"
    }
   ],
   "source": [
    "test = 100000000000000000000000000000000000000000000000000000000000000000000000000000000000000000000000000000000000000000000000000000000000000000000000000000000000000000000000000000000000000000000000000000000000000000000000000000000000000000000000000000000000000000000000000000000000000000000000000000000000000000000000000\n",
    "test"
   ]
  },
  {
   "cell_type": "code",
   "execution_count": null,
   "metadata": {
    "colab": {
     "base_uri": "https://localhost:8080/"
    },
    "id": "3Dfm-t-iCG_6",
    "outputId": "5a3485af-161b-4f1e-da72-ef281c7a0470"
   },
   "outputs": [
    {
     "data": {
      "text/plain": [
       "int"
      ]
     },
     "execution_count": 15,
     "metadata": {
      "tags": []
     },
     "output_type": "execute_result"
    }
   ],
   "source": [
    "type(test)"
   ]
  },
  {
   "cell_type": "code",
   "execution_count": null,
   "metadata": {
    "colab": {
     "base_uri": "https://localhost:8080/"
    },
    "id": "HCz4kvT-CSyK",
    "outputId": "efabc8b6-0c6f-4cbd-d009-0181d7027cd2"
   },
   "outputs": [
    {
     "data": {
      "text/plain": [
       "164"
      ]
     },
     "execution_count": 16,
     "metadata": {
      "tags": []
     },
     "output_type": "execute_result"
    }
   ],
   "source": [
    "sys.getsizeof(test)"
   ]
  },
  {
   "cell_type": "code",
   "execution_count": null,
   "metadata": {
    "colab": {
     "base_uri": "https://localhost:8080/",
     "height": 163
    },
    "id": "CGPYCN1mCYCU",
    "outputId": "bb9bfee1-5df9-45a0-c882-9e2f92cee998"
   },
   "outputs": [
    {
     "ename": "OverflowError",
     "evalue": "ignored",
     "output_type": "error",
     "traceback": [
      "\u001b[0;31m---------------------------------------------------------------------------\u001b[0m",
      "\u001b[0;31mOverflowError\u001b[0m                             Traceback (most recent call last)",
      "\u001b[0;32m<ipython-input-17-b1ede8855e8e>\u001b[0m in \u001b[0;36m<module>\u001b[0;34m()\u001b[0m\n\u001b[0;32m----> 1\u001b[0;31m \u001b[0mfloat\u001b[0m\u001b[0;34m(\u001b[0m\u001b[0mtest\u001b[0m\u001b[0;34m)\u001b[0m\u001b[0;34m\u001b[0m\u001b[0;34m\u001b[0m\u001b[0m\n\u001b[0m",
      "\u001b[0;31mOverflowError\u001b[0m: int too large to convert to float"
     ]
    }
   ],
   "source": [
    "float(test)"
   ]
  },
  {
   "cell_type": "code",
   "execution_count": null,
   "metadata": {
    "colab": {
     "base_uri": "https://localhost:8080/"
    },
    "id": "NKQbvgzRmKLH",
    "outputId": "82dbda9f-a24a-458e-c2ba-6008679bbd06"
   },
   "outputs": [
    {
     "name": "stdout",
     "output_type": "stream",
     "text": [
      "Размер строки с одним символом: 50\n",
      "Размер строки с трёмя символами: 52\n",
      "Я могу вывести переменные 5 3 (5+3j) ...\n"
     ]
    }
   ],
   "source": [
    "str1 = \" \"\n",
    "str2 = \"aaa\"\n",
    "\n",
    "print(f'Размер строки с одним символом: {sys.getsizeof(str1)}')\n",
    "print(f'Размер строки с трёмя символами: {sys.getsizeof(str2)}')\n",
    "print(f'Я могу вывести переменные {x} {y} {z} ...')"
   ]
  },
  {
   "cell_type": "code",
   "execution_count": null,
   "metadata": {
    "colab": {
     "base_uri": "https://localhost:8080/"
    },
    "id": "HcpLjUwXmWR2",
    "outputId": "311851bd-cb08-4bd0-ebec-df71b35eedb4"
   },
   "outputs": [
    {
     "name": "stdout",
     "output_type": "stream",
     "text": [
      " a\n",
      "Нулевой символ: Р\n",
      "Первый символ: а\n",
      "Минус первый символ: и\n"
     ]
    }
   ],
   "source": [
    "str1 = str1+\"a\"\n",
    "print(str1)\n",
    "str4 = \"Размер строки с трёмя символами\"\n",
    "print(f'Нулевой символ: {str4[0]}')\n",
    "print(f'Первый символ: {str4[1]}')\n",
    "print(f'Минус первый символ: {str4[-1]}')"
   ]
  },
  {
   "cell_type": "code",
   "execution_count": null,
   "metadata": {
    "colab": {
     "base_uri": "https://localhost:8080/"
    },
    "id": "DA5KXAq6ogN4",
    "outputId": "e398e44f-af10-4d8b-f2d3-5c0a1e81076a"
   },
   "outputs": [
    {
     "name": "stdout",
     "output_type": "stream",
     "text": [
      "А ещё вы можете создавать многострочные переменные\n",
      "используя тройные кавычки \n",
      "\n",
      "Но также если вы великий писатель и ваши мысли не способна вместить видимая строка вы можете поставить правый слеш и спокойно пиать на следующей строке, то же самое относится и к написанию кода \n",
      "\n",
      "А ещё внутри текста можно использовать одинарные кавычки 'Ха'\n",
      "Или двойные \"ХаХа\"\n"
     ]
    }
   ],
   "source": [
    "s = '''А ещё вы можете создавать многострочные переменные\n",
    "используя тройные кавычки'''\n",
    "print(s, '\\n')\n",
    "\n",
    "'''И \n",
    "многострочные \n",
    "комментари'''\n",
    "# комментарий\n",
    "# комментарий\n",
    "s = 'Но также если вы великий писатель и ваши мысли не способна вместить видимая \\\n",
    "строка вы можете поставить правый слеш и спокойно пиать на следующей строке, \\\n",
    "то же самое относится и к написанию кода'\n",
    "\n",
    "print(s, '\\n')\n",
    "\n",
    "\"\"\"Это тоже многострочный комментарий\n",
    "\"\"\"\n",
    "\n",
    "print(\"А ещё внутри текста можно использовать одинарные кавычки 'Ха'\")\n",
    "print('Или двойные \"ХаХа\"')"
   ]
  },
  {
   "cell_type": "code",
   "execution_count": null,
   "metadata": {
    "colab": {
     "base_uri": "https://localhost:8080/"
    },
    "id": "rvHsXBXIq-im",
    "outputId": "a288ebb8-3f2c-4cf1-fad2-1c0d96a0822d"
   },
   "outputs": [
    {
     "name": "stdout",
     "output_type": "stream",
     "text": [
      "['создайте', 'переменную,', 'которая', 'хранит', 'описание', 'этой', 'задачи', 'как', 'строку,', 'разделите', 'слова', 'по', 'пробелам', 'и', 'приведите', 'к', 'нижнему', 'регистру.']\n"
     ]
    }
   ],
   "source": [
    "s= 'Создайте переменную, которая хранит описание этой задачи как строку, разделите слова по пробелам и приведите к нижнему регистру.'\n",
    "list_s = s.lower().split(' ')\n",
    "print(list_s)"
   ]
  },
  {
   "cell_type": "code",
   "execution_count": null,
   "metadata": {
    "colab": {
     "base_uri": "https://localhost:8080/"
    },
    "id": "xR8jWK-OoF-Q",
    "outputId": "03044486-dd0e-4eac-d534-c2cbf159b465"
   },
   "outputs": [
    {
     "name": "stdout",
     "output_type": "stream",
     "text": [
      " 65 - A  66 - B  67 - C  68 - D  69 - E  70 - F  71 - G  72 - H  73 - I  74 - J\n",
      " 75 - K  76 - L  77 - M  78 - N  79 - O  80 - P  81 - Q  82 - R  83 - S  84 - T\n",
      " 85 - U  86 - V  87 - W  88 - X  89 - Y  90 - Z "
     ]
    }
   ],
   "source": [
    "#Как работать с отдельными символами?\n",
    "\n",
    "k = 0\n",
    "for i in range(ord('A'),ord('Z')+1):\n",
    "    if i < 10:\n",
    "        print(' ', end ='')\n",
    "    if i < 100:\n",
    "        print(' ', end ='')\n",
    "    if k == 9:\n",
    "        print(f'{i} - {chr(i)}')\n",
    "        k = 0\n",
    "    else:\n",
    "        print(f'{i} - {chr(i)}', end = ' ')\n",
    "        k += 1"
   ]
  },
  {
   "cell_type": "code",
   "execution_count": null,
   "metadata": {
    "colab": {
     "base_uri": "https://localhost:8080/"
    },
    "id": "0HrfbJNZp9vW",
    "outputId": "b88fca14-7856-4f91-ee7a-d9af443efdb4"
   },
   "outputs": [
    {
     "name": "stdout",
     "output_type": "stream",
     "text": [
      "range(0, 5)\n",
      "<class 'range'>\n",
      "range(0, 100, 2)\n"
     ]
    },
    {
     "data": {
      "text/plain": [
       "[0, 1, 2, 3, 4]"
      ]
     },
     "execution_count": 24,
     "metadata": {
      "tags": []
     },
     "output_type": "execute_result"
    }
   ],
   "source": [
    "# Что вернёт range?\n",
    "print(range(0, 5))\n",
    "\n",
    "print(type(range(0, 5)))\n",
    "\n",
    "print(range(0, 100, 2))\n",
    "\n",
    "list(range(0, 5))"
   ]
  },
  {
   "cell_type": "code",
   "execution_count": null,
   "metadata": {
    "colab": {
     "base_uri": "https://localhost:8080/"
    },
    "id": "7aSGl5D3roiU",
    "outputId": "c6a014da-b590-4f77-d1cf-a6818bef699a"
   },
   "outputs": [
    {
     "name": "stdout",
     "output_type": "stream",
     "text": [
      "range(0, 100, 4)\n",
      "0 4 8 12 16 20 24 28 32 36 40 44 48 52 56 60 64 68 72 76 80 84 88 92 96 \n",
      "\n",
      "range(50, -50, 2)\n",
      "\n",
      "\n",
      "range(50, -10, -2)\n",
      "50 48 46 44 42 40 38 36 34 32 30 28 26 24 22 20 18 16 14 12 10 8 6 4 2 0 -2 -4 -6 -8 \n",
      "\n",
      "0 1 2 3 4 5 6 7 8 9 \n",
      "\n"
     ]
    }
   ],
   "source": [
    "#цикл for\n",
    "\n",
    "print(range(0, 100, 4))\n",
    "for i in range(0, 100, 4):\n",
    "  print(i, end=\" \")\n",
    "print(\"\\n\")\n",
    "\n",
    "print(range(50, -50, 2))\n",
    "for i in range(50, -50, 2):\n",
    "  print(i, end=\" \")\n",
    "print(\"\\n\")\n",
    "#не вывелось ничего, так как неверно считает\n",
    "\n",
    "print(range(50, -10, -2))\n",
    "for i in range(50, -10, -2):\n",
    "  print(i, end=\" \")\n",
    "print(\"\\n\")\n",
    "\n",
    "#цикл while\n",
    "\n",
    "i = 0\n",
    "while (i < 10):\n",
    "  print(i, end=\" \")\n",
    "  i +=1\n",
    "\n",
    "print(\"\\n\")"
   ]
  },
  {
   "cell_type": "code",
   "execution_count": null,
   "metadata": {
    "colab": {
     "base_uri": "https://localhost:8080/"
    },
    "id": "_gWpmiflskwJ",
    "outputId": "eedc2806-dfdc-4c2f-baa4-372b72227e59"
   },
   "outputs": [
    {
     "name": "stdout",
     "output_type": "stream",
     "text": [
      "<enumerate object at 0x7fd649cd7b88>\n",
      "[(0, 1), (1, 0), (2, 0), (3, 0), (4, 1), (5, 2), (6, 1), (7, 0), (8, 0), (9, 0)]\n",
      "Цикл\n",
      "1  4  9  49  64  81  \n",
      "\n"
     ]
    }
   ],
   "source": [
    "# Вывести квадраты индексов с значением False\n",
    "#      0  1  2  3 ...\n",
    "arr = [1, 0, 0, 0, 1, 2, 1, 0, 0, 0]\n",
    "print(enumerate(arr))\n",
    "print(list(enumerate(arr)))\n",
    "\n",
    "print('Цикл')\n",
    "for ind, val in enumerate(arr):\n",
    "  #print(ind, val)\n",
    "  if val: #автоматически приводит int к False или True\n",
    "    continue\n",
    "  print(ind**2, end='  ')\n",
    "print(\"\\n\")\n",
    "\n"
   ]
  },
  {
   "cell_type": "code",
   "execution_count": null,
   "metadata": {
    "colab": {
     "base_uri": "https://localhost:8080/"
    },
    "id": "-24YESiIsIOV",
    "outputId": "454b14b6-3396-4f99-c8d3-d5553881c9a7"
   },
   "outputs": [
    {
     "data": {
      "text/plain": [
       "True"
      ]
     },
     "execution_count": 35,
     "metadata": {
      "tags": []
     },
     "output_type": "execute_result"
    }
   ],
   "source": [
    "#кстати...\n",
    "isinstance(True, int)"
   ]
  },
  {
   "cell_type": "markdown",
   "metadata": {
    "id": "EV8iP7NGgLzK"
   },
   "source": [
    "# Функции"
   ]
  },
  {
   "cell_type": "code",
   "execution_count": null,
   "metadata": {
    "colab": {
     "base_uri": "https://localhost:8080/"
    },
    "id": "qTzJyFEgtYF3",
    "outputId": "e15e3662-6ae6-4306-d371-d997c1df1c83"
   },
   "outputs": [
    {
     "name": "stdout",
     "output_type": "stream",
     "text": [
      "x равен 50\n",
      "Замена локального x на 2\n",
      "x по-прежнему 50\n",
      "x равен 50\n",
      "Замена локального x на 2\n",
      "x не по-прежнему 2\n"
     ]
    }
   ],
   "source": [
    "#Локальные переменные\n",
    "x = 50\n",
    "def func(x):\n",
    "  print('x равен', x)\n",
    "  x = 2\n",
    "  print('Замена локального x на', x)\n",
    "func(x) #запускаем функцию со значением х\n",
    "print('x по-прежнему', x)\n",
    "\n",
    "def func2(x):\n",
    "  print('x равен', x)\n",
    "  x = 2\n",
    "  print('Замена локального x на', x)\n",
    "  return x\n",
    "\n",
    "x = func2(x)\n",
    "print('x не по-прежнему', x)"
   ]
  },
  {
   "cell_type": "code",
   "execution_count": null,
   "metadata": {
    "colab": {
     "base_uri": "https://localhost:8080/"
    },
    "id": "H3jP1b3nthRU",
    "outputId": "82217af5-c73a-48ea-a662-0f22429604f4"
   },
   "outputs": [
    {
     "name": "stdout",
     "output_type": "stream",
     "text": [
      "x равно 50\n",
      "Заменяем глобальное значение x на 2\n",
      "Значение x составляет 2\n"
     ]
    }
   ],
   "source": [
    "# global\n",
    "x = 50\n",
    "def func():\n",
    "  global x\n",
    "  print('x равно', x)\n",
    "  x = 2\n",
    "  print('Заменяем глобальное значение x на', x)\n",
    "func() #не запускаем x\n",
    "print('Значение x составляет', x)"
   ]
  },
  {
   "cell_type": "code",
   "execution_count": null,
   "metadata": {
    "colab": {
     "base_uri": "https://localhost:8080/"
    },
    "id": "e7xGqH93tnAe",
    "outputId": "a11347c4-ba46-4118-c1ed-14b1485b63a5"
   },
   "outputs": [
    {
     "name": "stdout",
     "output_type": "stream",
     "text": [
      "x равно 2\n",
      "Локальное x сменилось на 5\n"
     ]
    }
   ],
   "source": [
    "# nonlocal\n",
    "def func_outer():\n",
    "  x = 2\n",
    "  print('x равно', x)\n",
    "  def func_inner():\n",
    "    nonlocal x\n",
    "    x = 5\n",
    "  func_inner()\n",
    "  print('Локальное x сменилось на', x)\n",
    "func_outer()"
   ]
  },
  {
   "cell_type": "code",
   "execution_count": null,
   "metadata": {
    "colab": {
     "base_uri": "https://localhost:8080/"
    },
    "id": "NkPq4N1WtqDg",
    "outputId": "c8b5dba1-0243-4ab5-effb-c7a0538a519b"
   },
   "outputs": [
    {
     "name": "stdout",
     "output_type": "stream",
     "text": [
      "Hello\n",
      "World!World!World!World!World!\n"
     ]
    }
   ],
   "source": [
    "# Значения аргументов по умолчанию\n",
    "def say(message, times = 1):\n",
    "  print(message * times) #обратите внимание на умножение со строками\n",
    "say('Hello')\n",
    "say('World!', 5)"
   ]
  },
  {
   "cell_type": "code",
   "execution_count": null,
   "metadata": {
    "colab": {
     "base_uri": "https://localhost:8080/"
    },
    "id": "jl8fOsYgtxdo",
    "outputId": "9279e54a-83b1-40cf-8461-cd5c557b421d"
   },
   "outputs": [
    {
     "name": "stdout",
     "output_type": "stream",
     "text": [
      "a равно 3 , b равно 7 , а c равно 10 \n",
      "\n",
      "a равно 25 , b равно 5 , а c равно 24 \n",
      "\n",
      "a равно 100 , b равно 5 , а c равно 50 \n",
      "\n",
      "a равно 6 , b равно 5 , а c равно 10 \n",
      "\n"
     ]
    }
   ],
   "source": [
    "# Значение аргументов по умолчанию\n",
    "def func(a, b=5, c=10):\n",
    "  print('a равно', a, ', b равно', b, ', а c равно', c, '\\n')\n",
    "func(3, 7)\n",
    "func(25, c=24)\n",
    "func(c=50, a=100)\n",
    "func(6)"
   ]
  },
  {
   "cell_type": "markdown",
   "metadata": {
    "id": "BpSgrpXet2AM"
   },
   "source": [
    "# Структуры Python\n",
    "\n",
    "*   Ряд\n",
    "*   Список\n",
    "*   Кортеж\n",
    "*   Словарь\n",
    "*   Множество"
   ]
  },
  {
   "cell_type": "markdown",
   "metadata": {
    "id": "16DI_7sVycbX"
   },
   "source": [
    "## Range"
   ]
  },
  {
   "cell_type": "code",
   "execution_count": null,
   "metadata": {
    "colab": {
     "base_uri": "https://localhost:8080/"
    },
    "id": "xZQ5A4fVxsEX",
    "outputId": "7b9b309f-bdcf-4785-c923-300b12ad1d86"
   },
   "outputs": [
    {
     "name": "stdout",
     "output_type": "stream",
     "text": [
      "range(1, 10, 2) \n",
      "\n",
      "[1, 3, 5, 7, 9]\n",
      "[1, 3, 5, 7, 9]\n",
      "1\n",
      "3\n",
      "5\n",
      "7\n",
      "9\n",
      "[(0, 1), (1, 3), (2, 5), (3, 7), (4, 9)]\n",
      "Посчитаем размер\n",
      " type <class 'list'>, size=128, object= [(0, 1), (1, 3), (2, 5), (3, 7), (4, 9)]\n",
      "\t type <class 'tuple'>, size=64, object= (0, 1)\n",
      "\t\t type <class 'int'>, size=24, object= 0\n",
      "\t\t type <class 'int'>, size=28, object= 1\n",
      "\t type <class 'tuple'>, size=64, object= (1, 3)\n",
      "\t\t type <class 'int'>, size=28, object= 1\n",
      "\t\t type <class 'int'>, size=28, object= 3\n",
      "\t type <class 'tuple'>, size=64, object= (2, 5)\n",
      "\t\t type <class 'int'>, size=28, object= 2\n",
      "\t\t type <class 'int'>, size=28, object= 5\n",
      "\t type <class 'tuple'>, size=64, object= (3, 7)\n",
      "\t\t type <class 'int'>, size=28, object= 3\n",
      "\t\t type <class 'int'>, size=28, object= 7\n",
      "\t type <class 'tuple'>, size=64, object= (4, 9)\n",
      "\t\t type <class 'int'>, size=28, object= 4\n",
      "\t\t type <class 'int'>, size=28, object= 9\n"
     ]
    },
    {
     "data": {
      "text/plain": [
       "724"
      ]
     },
     "execution_count": 44,
     "metadata": {
      "tags": []
     },
     "output_type": "execute_result"
    }
   ],
   "source": [
    "#чуть-чуть повторим\n",
    "\n",
    "a = range(1, 10, 2)\n",
    "print(a, '\\n')\n",
    "print(list(a))\n",
    "\n",
    "a = list(range(1,10,2))\n",
    "print(a)\n",
    "\n",
    "b = range(1,10,2)\n",
    "\n",
    "for i in b:\n",
    "  print(i)\n",
    "\n",
    "row = list(enumerate(list(a)))\n",
    "print(row)\n",
    "\n",
    "print(\"Посчитаем размер\")\n",
    "get_size(row)\n",
    "\n",
    "#724?\n",
    "\n",
    "#\"Строка\""
   ]
  },
  {
   "cell_type": "markdown",
   "metadata": {
    "id": "byCP6x6-zAdg"
   },
   "source": [
    "## Tuple"
   ]
  },
  {
   "cell_type": "code",
   "execution_count": null,
   "metadata": {
    "colab": {
     "base_uri": "https://localhost:8080/",
     "height": 231
    },
    "id": "5FbE_K2HzKiC",
    "outputId": "dc6023a2-94fd-4aa4-e665-dc09115debd1"
   },
   "outputs": [
    {
     "name": "stdout",
     "output_type": "stream",
     "text": [
      "(1, 2, 3, 4, 5)\n",
      "(1, 2, 3, 4, 5)\n"
     ]
    },
    {
     "ename": "TypeError",
     "evalue": "ignored",
     "output_type": "error",
     "traceback": [
      "\u001b[0;31m---------------------------------------------------------------------------\u001b[0m",
      "\u001b[0;31mTypeError\u001b[0m                                 Traceback (most recent call last)",
      "\u001b[0;32m<ipython-input-48-b974e3cbf669>\u001b[0m in \u001b[0;36m<module>\u001b[0;34m()\u001b[0m\n\u001b[1;32m      3\u001b[0m \u001b[0mtup\u001b[0m \u001b[0;34m=\u001b[0m \u001b[0;34m(\u001b[0m\u001b[0;36m1\u001b[0m\u001b[0;34m,\u001b[0m \u001b[0;36m2\u001b[0m\u001b[0;34m,\u001b[0m \u001b[0;36m3\u001b[0m\u001b[0;34m,\u001b[0m \u001b[0;36m4\u001b[0m\u001b[0;34m,\u001b[0m \u001b[0;36m5\u001b[0m\u001b[0;34m)\u001b[0m\u001b[0;34m\u001b[0m\u001b[0;34m\u001b[0m\u001b[0m\n\u001b[1;32m      4\u001b[0m \u001b[0mprint\u001b[0m\u001b[0;34m(\u001b[0m\u001b[0mtup\u001b[0m\u001b[0;34m)\u001b[0m\u001b[0;34m\u001b[0m\u001b[0;34m\u001b[0m\u001b[0m\n\u001b[0;32m----> 5\u001b[0;31m \u001b[0mtup\u001b[0m\u001b[0;34m[\u001b[0m\u001b[0;36m0\u001b[0m\u001b[0;34m]\u001b[0m \u001b[0;34m=\u001b[0m \u001b[0;36m566\u001b[0m\u001b[0;34m\u001b[0m\u001b[0;34m\u001b[0m\u001b[0m\n\u001b[0m",
      "\u001b[0;31mTypeError\u001b[0m: 'tuple' object does not support item assignment"
     ]
    }
   ],
   "source": [
    "tup = 1, 2, 3, 4, 5\n",
    "print(tup)\n",
    "tup = (1, 2, 3, 4, 5)\n",
    "print(tup)\n",
    "#tup[0] = 566"
   ]
  },
  {
   "cell_type": "markdown",
   "metadata": {
    "id": "xcaG0CB4ytEM"
   },
   "source": [
    "## List"
   ]
  },
  {
   "cell_type": "code",
   "execution_count": null,
   "metadata": {
    "colab": {
     "base_uri": "https://localhost:8080/"
    },
    "id": "mfsYmcHvyzAR",
    "outputId": "1d54693a-1dcb-4d42-d948-8799e9ac579f"
   },
   "outputs": [
    {
     "name": "stdout",
     "output_type": "stream",
     "text": [
      "1: [1, (1, 2), '1 2 3']\n",
      "2: ['1', '2', '3', '4', '6', '7']\n",
      "3: ['1234567']\n",
      "4: [1, 2, 3, 4, 5, 6, 7, 8, 9]\n",
      "5: [1, 2, 3, 4, 1, 2, 3, 4, 1, 2, 3, 4, 1, 2, 3, 4]\n"
     ]
    }
   ],
   "source": [
    "arr = []\n",
    "arr.append(1); \n",
    "arr.append((1, 2)); \n",
    "arr.append('1 2 3')\n",
    "print('1:', arr)\n",
    "\n",
    "arr = list('123467')\n",
    "print('2:', arr)\n",
    "\n",
    "arr = ['1234567']\n",
    "print('3:', arr)\n",
    "\n",
    "arr = [1, 2, 3, 4] + [5, 6, 7, 8, 9]\n",
    "print('4:', arr)\n",
    "\n",
    "arr = [1, 2, 3, 4] * 4\n",
    "print('5:', arr)"
   ]
  },
  {
   "cell_type": "code",
   "execution_count": null,
   "metadata": {
    "colab": {
     "base_uri": "https://localhost:8080/"
    },
    "id": "ZpNLfmNmy4R1",
    "outputId": "eefbfe8a-0ece-4e65-a4f3-865cec27c847"
   },
   "outputs": [
    {
     "name": "stdout",
     "output_type": "stream",
     "text": [
      "[1, 2, 3]\n",
      "[7, 8]\n",
      "[4, 5, 6]\n",
      "[]\n",
      "[8, 7, 6]\n",
      "[]\n",
      "8\n",
      "[2, 3, 4, 5, 6, 7, 8]\n"
     ]
    }
   ],
   "source": [
    "#Взятие срезов\n",
    "#   -8 -7 -6 -5 -4 -3 -2 -1\n",
    "#    0  1  2  3  4  5  6  7\n",
    "A = [1, 2, 3, 4, 5, 6, 7, 8]\n",
    "# A(начало:конец-1:шаг)\n",
    "print(A[:3])\n",
    "print(A[6:])\n",
    "print(A[3:6:1])\n",
    "print(A[-1:4]) #print(A[-1:4:1])\n",
    "print(A[-1:4:-1])\n",
    "print(A[-1:-4:1])\n",
    "print(A[-1])\n",
    "print(A[-7:]) #удаляет один элемент в начале"
   ]
  },
  {
   "cell_type": "code",
   "execution_count": null,
   "metadata": {
    "colab": {
     "base_uri": "https://localhost:8080/"
    },
    "id": "lt0bkCfY8XMD",
    "outputId": "49ce3668-7715-470a-9929-0b7897e5974b"
   },
   "outputs": [
    {
     "name": "stdout",
     "output_type": "stream",
     "text": [
      "[1, 2, 4, 8, 16, 32, 64, 128, 256, 49, 36, 25, 16, 9, 4, 1, 0]\n",
      "[(0, 1), (1, 2), (2, 4), (3, 8), (4, 16), (5, 32), (6, 64), (7, 128), (8, 256), (9, 49), (10, 36), (11, 25), (12, 16), (13, 9), (14, 4), (15, 1), (16, 0)]\n",
      "[16]\n"
     ]
    }
   ],
   "source": [
    "lst = [81, 64, 49, 36, 25, 16, 9, 4, 1, 0]\n",
    "lst[0:2] = [1, 2, 4, 8, 16, 32, 64, 128, 256]\n",
    "print(lst)\n",
    "print(list(enumerate(lst)))\n",
    "print(lst[4:2:-2])"
   ]
  },
  {
   "cell_type": "code",
   "execution_count": null,
   "metadata": {
    "colab": {
     "base_uri": "https://localhost:8080/"
    },
    "id": "WnOWCEZ58Z5F",
    "outputId": "57b25c46-bde1-43ed-bce2-b034979f8922"
   },
   "outputs": [
    {
     "name": "stdout",
     "output_type": "stream",
     "text": [
      "b0246GECA\n"
     ]
    }
   ],
   "source": [
    "print(\"abcdefgh\"[1] + \"01234567\"[::2] + \"HGFEDCBA\"[1::2])"
   ]
  },
  {
   "cell_type": "markdown",
   "metadata": {
    "id": "y6A-p-F0zfdC"
   },
   "source": [
    "## Dict (ассоциативный массив)"
   ]
  },
  {
   "cell_type": "code",
   "execution_count": null,
   "metadata": {
    "colab": {
     "base_uri": "https://localhost:8080/"
    },
    "id": "FalWUVhvzkFT",
    "outputId": "5eeffd73-dd2f-43c6-8fbb-344271aed884"
   },
   "outputs": [
    {
     "name": "stdout",
     "output_type": "stream",
     "text": [
      "В какой стране вы живете?\n",
      "Russia\n",
      "Столица вашей страны Moscow\n",
      "{'Russia': 'Moscow', 'Ukraine': 'Kiev', 'USA': 'Washington', 'Belorus': 'Minsk'}\n"
     ]
    }
   ],
   "source": [
    "# Создадим пустой словать Capitals\n",
    "Capitals = dict()\n",
    "\n",
    "# Заполним его несколькими значениями\n",
    "Capitals['Russia'] = 'Moscow'\n",
    "Capitals['Ukraine'] = 'Kiev'\n",
    "Capitals['USA'] = 'Washington'\n",
    "\n",
    "# Считаем название страны\n",
    "print('В какой стране вы живете?')\n",
    "country = input()\n",
    "\n",
    "# Проверим, есть ли такая страна в словаре Capitals\n",
    "if country in Capitals:\n",
    "    # Если есть - выведем ее столицу\n",
    "    print('Столица вашей страны', Capitals[country])\n",
    "else:\n",
    "    # Запросим название столицы и добавив его в словарь\n",
    "    print('Как называется столица вашей страны?')\n",
    "    city = input()\n",
    "    Capitals[country] = city\n",
    "\n",
    "Capitals['Belorus'] = 'Minsk'\n",
    "\n",
    "print(Capitals)"
   ]
  },
  {
   "cell_type": "code",
   "execution_count": null,
   "metadata": {
    "colab": {
     "base_uri": "https://localhost:8080/"
    },
    "id": "I8EiR0tvz1Yq",
    "outputId": "4ef586bd-1c73-44a4-d5b6-599adfd5ad5c"
   },
   "outputs": [
    {
     "name": "stdout",
     "output_type": "stream",
     "text": [
      "{'Вася': 5, 'Петя': 2, 'Дима': 5, 'Иван': 3, 'НеИван': 4, 1: 7}\n",
      "Введите значение: 9\n",
      "Введите ключ: 3\n",
      "Вася 5\n",
      "Петя 2\n",
      "Дима 5\n",
      "Иван 3\n",
      "НеИван 4\n",
      "1 7\n",
      "3 9\n"
     ]
    }
   ],
   "source": [
    "#Перебор элементов словаря\n",
    "\n",
    "A = dict(zip(['Вася', 'Петя', 'Дима', 'Иван', 'НеИван',1], [5, 2, 5, 3, 4,7]))\n",
    "print(A)\n",
    "A[int(input(\"Введите ключ: \"))] = int(input(\"Введите значение: \"))\n",
    "\n",
    "for key in A:\n",
    "    print(key, A[key])"
   ]
  },
  {
   "cell_type": "code",
   "execution_count": null,
   "metadata": {
    "colab": {
     "base_uri": "https://localhost:8080/"
    },
    "id": "x6JtqyJKI8zw",
    "outputId": "23e6615f-fa11-4bc8-d1ba-3b47080c9f87"
   },
   "outputs": [
    {
     "data": {
      "text/plain": [
       "5"
      ]
     },
     "execution_count": 61,
     "metadata": {
      "tags": []
     },
     "output_type": "execute_result"
    }
   ],
   "source": [
    "A['Вася']"
   ]
  },
  {
   "cell_type": "code",
   "execution_count": null,
   "metadata": {
    "colab": {
     "base_uri": "https://localhost:8080/"
    },
    "id": "gMYV5WmZz6tq",
    "outputId": "798aa0de-d9a1-4d63-ddc4-d52f0bceff29"
   },
   "outputs": [
    {
     "name": "stdout",
     "output_type": "stream",
     "text": [
      "{'Вася': 5, 'Петя': 2, 'Дима': 5, 'Иван': 3}\n"
     ]
    }
   ],
   "source": [
    "#Удаление элемента из словаря\n",
    "A = dict(zip(['Вася', 'Петя', 'Дима', 'Иван', 'НеИван'], [5, 2, 5, 3, 4]))\n",
    "\n",
    "if 'НеИван' in A:\n",
    "  del A['НеИван'] #работает не только для словаря, кстати!\n",
    "print(A)"
   ]
  },
  {
   "cell_type": "code",
   "execution_count": null,
   "metadata": {
    "colab": {
     "base_uri": "https://localhost:8080/"
    },
    "id": "s2MZ2V9Qz-vI",
    "outputId": "e31c459e-98f8-4851-805a-802888c3bb70"
   },
   "outputs": [
    {
     "name": "stdout",
     "output_type": "stream",
     "text": [
      "dict_keys(['Вася', 88, 'Дима', 'Иван', 'НеИван']) - Этот метод возвращает представление клюей в заданном словаре \n",
      "\n",
      "dict_values([1, True, 'xx', -15, 4]) - Этот метод возвращает представление значений в заданном словаре \n",
      "\n",
      "dict_items([('Вася', 1), (88, True), ('Дима', 'xx'), ('Иван', -15), ('НеИван', 4)]) - Этот метод возвращает представление пар (кортежей) ключ-значение в заданном словаре \n",
      "\n"
     ]
    }
   ],
   "source": [
    "#Методы для работы с элементами словарей\n",
    "A = dict(zip(['Вася', 88, 'Дима', 'Иван', 'НеИван'], [1, True, \"xx\", -15, 4]))\n",
    "\n",
    "print(A.keys(), \"- Этот метод возвращает представление клюей в заданном словаре\", '\\n')\n",
    "\n",
    "print(A.values(), \"- Этот метод возвращает представление значений в заданном словаре\", '\\n')\n",
    "\n",
    "print(A.items(), \"- Этот метод возвращает представление пар (кортежей) ключ-значение в заданном словаре\", '\\n')"
   ]
  },
  {
   "cell_type": "code",
   "execution_count": null,
   "metadata": {
    "colab": {
     "base_uri": "https://localhost:8080/"
    },
    "id": "wRIWbdwP0PkF",
    "outputId": "d3b34daa-9209-44b5-9604-dfb3688d5901"
   },
   "outputs": [
    {
     "name": "stdout",
     "output_type": "stream",
     "text": [
      "Вася 1\n",
      "88 True\n",
      "Дима xx\n",
      "Иван -15\n",
      "НеИван 4\n",
      "---------------\n",
      "Вася 1\n",
      "88 True\n",
      "Дима xx\n",
      "Иван -15\n",
      "НеИван 4\n"
     ]
    }
   ],
   "source": [
    "#Перебор элементов словаря\n",
    "for key, val in A.items():\n",
    "  print(key, val)\n",
    "\n",
    "print('-'*15)\n",
    "# или ещё проще\n",
    "\n",
    "for tup in A.items():\n",
    "  print(*tup)"
   ]
  },
  {
   "cell_type": "markdown",
   "metadata": {
    "id": "OqEylpwM0qpl"
   },
   "source": [
    "## Set"
   ]
  },
  {
   "cell_type": "code",
   "execution_count": null,
   "metadata": {
    "colab": {
     "base_uri": "https://localhost:8080/"
    },
    "id": "it6uMSW50t5N",
    "outputId": "63f7ea51-a851-4be7-f5ac-b3115d420de0"
   },
   "outputs": [
    {
     "name": "stdout",
     "output_type": "stream",
     "text": [
      "{1, 2, 3}\n",
      "{'2', '1', '3'}\n"
     ]
    }
   ],
   "source": [
    "#Создание множеств\n",
    "\n",
    "A = {1, 2, 3}\n",
    "print(A)\n",
    "#ЗАПОМНИТЕ нельзя написать A = {} для создания множества, интерпритатор поймёт это как пустой словарь\n",
    "\n",
    "A = set('123')\n",
    "print(A)"
   ]
  },
  {
   "cell_type": "code",
   "execution_count": null,
   "metadata": {
    "colab": {
     "base_uri": "https://localhost:8080/"
    },
    "id": "in66zE5O0v45",
    "outputId": "f1e3d6e5-dc66-48bb-997b-68b690089901"
   },
   "outputs": [
    {
     "name": "stdout",
     "output_type": "stream",
     "text": [
      "{1, 2, 3, 4}\n",
      "True\n",
      "1: {'h', 'P', 'R', ' ', 'U', 'I', 'E', 'N', 'M'}\n",
      "2: {'NRNU MEPhI'}\n"
     ]
    }
   ],
   "source": [
    "A = {1, 2, 3, 4}\n",
    "B = {1, 1, 2, 3, 4, 4}\n",
    "print(B)\n",
    "print(A == B)\n",
    "\n",
    "print('1:', set('NRNU MEPhI'))\n",
    "print('2:', {'NRNU MEPhI'})"
   ]
  },
  {
   "cell_type": "code",
   "execution_count": null,
   "metadata": {
    "colab": {
     "base_uri": "https://localhost:8080/"
    },
    "id": "uERYJjx-04Ss",
    "outputId": "faffe451-8190-46b5-d3f8-2b5eb1feefa2"
   },
   "outputs": [
    {
     "name": "stdout",
     "output_type": "stream",
     "text": [
      "7\n"
     ]
    }
   ],
   "source": [
    "#Работа с элементами множеств\n",
    "A = {8, 2, 11, 4, 42, 6, 7}\n",
    "\n",
    "print(len(A)) #кол-во элементов и не только "
   ]
  },
  {
   "cell_type": "code",
   "execution_count": null,
   "metadata": {
    "colab": {
     "base_uri": "https://localhost:8080/"
    },
    "id": "h-aJNjD9072j",
    "outputId": "08f31254-9555-439d-8c4f-4f55ba0a739f"
   },
   "outputs": [
    {
     "name": "stdout",
     "output_type": "stream",
     "text": [
      "True\n",
      "False\n"
     ]
    }
   ],
   "source": [
    "#Проверить, есть ли элемент в множестве\n",
    "print(7 in A)\n",
    "print(7 not in A)"
   ]
  },
  {
   "cell_type": "code",
   "execution_count": null,
   "metadata": {
    "colab": {
     "base_uri": "https://localhost:8080/"
    },
    "id": "AlfpmA6Q8kRK",
    "outputId": "51923d32-6c86-4d29-98cc-41cfcd62389e"
   },
   "outputs": [
    {
     "name": "stdout",
     "output_type": "stream",
     "text": [
      "{2, 4, 6, 7, 8, 42, 11} - вначале \n",
      " --------------------------------\n",
      "{2, 4, 6, 7, 8, 42, 11, 80} - add \n",
      " --------------------------------\n",
      "2 {4, 6, 7, 8, 42, 11, 80} - pop \n",
      "\n",
      "{4, 6, 7, 8, 42, 80} - discard \n",
      "\n",
      "{4, 7, 8, 42, 80} - remove \n",
      "\n"
     ]
    }
   ],
   "source": [
    "#Добавление и удаление элемента из множества\n",
    "A = {8, 2, 11, 4, 42, 6, 7}\n",
    "\n",
    "print(A, \"- вначале\", '\\n', '-'*32)\n",
    "A.add(80)\n",
    "print(A, '- add', '\\n', '-'*32)\n",
    "\n",
    "print(A.pop(), end=' ')\n",
    "print(A, '- pop', '\\n')\n",
    "A.discard(11)\n",
    "print(A, '- discard', '\\n') #при отсутствии заданного элемента не делает ничего\n",
    "A.remove(6)\n",
    "print(A, '- remove', '\\n') #при отсутствии заданного элемента поднимаент исключение KeyError"
   ]
  },
  {
   "cell_type": "markdown",
   "metadata": {
    "id": "dA5Wk1nx1Mw1"
   },
   "source": [
    "# Генераторы списков"
   ]
  },
  {
   "cell_type": "code",
   "execution_count": null,
   "metadata": {
    "colab": {
     "base_uri": "https://localhost:8080/"
    },
    "id": "yQw1f9rc1R3-",
    "outputId": "efdd4d17-e751-4fcd-e278-5bf8a66b8405"
   },
   "outputs": [
    {
     "name": "stdout",
     "output_type": "stream",
     "text": [
      "0 1 2 3 4 5 6 7 8 9 10 11 12 13 14 15 16 17 18 19 20 21 22 23 24 25 26 27 28 29 - example \n",
      " -------------------------------------------------------------------------------------\n",
      "0 1 8 27 64 125 216 343 512 729 1000 1331 1728 2197 2744 3375 4096 4913 5832 6859 8000 9261 10648 12167 13824 15625 17576 19683 21952 24389 - кубы\n",
      "[] - после очистки\n"
     ]
    }
   ],
   "source": [
    "#Генераторы списков\n",
    "example = list(range(30))\n",
    "qubes = []\n",
    "print(*example, '- example', '\\n', '-'*85)\n",
    "\n",
    "for i in example:\n",
    "  qubes.append(i**3)\n",
    "print(*qubes, '- кубы')\n",
    "\n",
    "qubes.clear(); \n",
    "print(qubes, '- после очистки')\n"
   ]
  },
  {
   "cell_type": "code",
   "execution_count": null,
   "metadata": {
    "colab": {
     "base_uri": "https://localhost:8080/"
    },
    "id": "6DN72HDy1jJa",
    "outputId": "c02a679b-8c97-41db-d87e-1f2c0fbb46dd"
   },
   "outputs": [
    {
     "name": "stdout",
     "output_type": "stream",
     "text": [
      "0 1 8 27 64 125 216 343 512 729 1000 1331 1728 2197 2744 3375 4096 4913 5832 6859 8000 9261 10648 12167 13824 15625 17576 19683 21952 24389 - кубы\n"
     ]
    }
   ],
   "source": [
    "qubes = [i ** 3 for i in example]\n",
    "print(*qubes, '- кубы')"
   ]
  },
  {
   "cell_type": "markdown",
   "metadata": {
    "id": "KCgtuJVo6_Yy"
   },
   "source": [
    "# Встроенные функции Python"
   ]
  },
  {
   "cell_type": "code",
   "execution_count": null,
   "metadata": {
    "colab": {
     "base_uri": "https://localhost:8080/"
    },
    "id": "yy5LR_pq7CmA",
    "outputId": "c7686f1f-e708-474f-bf8a-4434babb446a"
   },
   "outputs": [
    {
     "name": "stdout",
     "output_type": "stream",
     "text": [
      "27\n"
     ]
    }
   ],
   "source": [
    "print(max(t[1] for t in zip([12, -7, 27, -7], [27, 27, 14, -25, -12, 24])))"
   ]
  },
  {
   "cell_type": "code",
   "execution_count": null,
   "metadata": {
    "colab": {
     "base_uri": "https://localhost:8080/"
    },
    "id": "nMwva61IKLgY",
    "outputId": "c49071f3-f800-4222-dbdc-3a73daf5b6f4"
   },
   "outputs": [
    {
     "data": {
      "text/plain": [
       "[(12, 27), (-7, 27), (27, 14), (-7, -25)]"
      ]
     },
     "execution_count": 76,
     "metadata": {
      "tags": []
     },
     "output_type": "execute_result"
    }
   ],
   "source": [
    "list(zip([12, -7, 27, -7], [27, 27, 14, -25, -12, 24]))"
   ]
  },
  {
   "cell_type": "code",
   "execution_count": null,
   "metadata": {
    "colab": {
     "base_uri": "https://localhost:8080/"
    },
    "id": "SxFaWyxt7L6u",
    "outputId": "a73c7755-c058-42d2-b0fc-341b2b467db3"
   },
   "outputs": [
    {
     "data": {
      "text/plain": [
       "False"
      ]
     },
     "execution_count": 77,
     "metadata": {
      "tags": []
     },
     "output_type": "execute_result"
    }
   ],
   "source": [
    "any(x > 5 for x in {-3: -16, 19: -25, 19: 4, 15: -4}.values())"
   ]
  },
  {
   "cell_type": "code",
   "execution_count": null,
   "metadata": {
    "colab": {
     "base_uri": "https://localhost:8080/"
    },
    "id": "i7_kXC1_KWus",
    "outputId": "36c15fd6-6ae7-42a0-ee2c-8a50bd378a81"
   },
   "outputs": [
    {
     "name": "stdout",
     "output_type": "stream",
     "text": [
      "-3\n",
      "19\n",
      "15\n"
     ]
    }
   ],
   "source": [
    "for x in {-3: -16, 19: -25, 19: 4, 15: -4}.values():\n",
    "  print(x)"
   ]
  },
  {
   "cell_type": "code",
   "execution_count": null,
   "metadata": {
    "colab": {
     "base_uri": "https://localhost:8080/"
    },
    "id": "gNT4XGLBKlPM",
    "outputId": "25ed0c46-0e30-4b33-e645-693b6c40d18b"
   },
   "outputs": [
    {
     "data": {
      "text/plain": [
       "{-3: -16, 15: -4, 19: 4}"
      ]
     },
     "execution_count": 81,
     "metadata": {
      "tags": []
     },
     "output_type": "execute_result"
    }
   ],
   "source": [
    "{-3: -16, 19: -25, 19: 4, 15: -4}"
   ]
  },
  {
   "cell_type": "code",
   "execution_count": null,
   "metadata": {
    "colab": {
     "base_uri": "https://localhost:8080/"
    },
    "id": "TBa1zz6y7OWo",
    "outputId": "e3959a06-8954-4c0d-e94c-78394a0ead06"
   },
   "outputs": [
    {
     "data": {
      "text/plain": [
       "False"
      ]
     },
     "execution_count": 83,
     "metadata": {
      "tags": []
     },
     "output_type": "execute_result"
    }
   ],
   "source": [
    "all(x%2 == 0 or x%3 > 0 for x in {-6: -30, 0: -27, -17: 13, -6: 9}.values())"
   ]
  },
  {
   "cell_type": "code",
   "execution_count": null,
   "metadata": {
    "colab": {
     "base_uri": "https://localhost:8080/"
    },
    "id": "XlDmWCvM7hpq",
    "outputId": "d17dd039-c5c7-44a6-b626-a821063ea1c6"
   },
   "outputs": [
    {
     "data": {
      "text/plain": [
       "True"
      ]
     },
     "execution_count": 84,
     "metadata": {
      "tags": []
     },
     "output_type": "execute_result"
    }
   ],
   "source": [
    "isinstance({-4: 28, -22: 16, -10: 12}, (complex, bool, dict))"
   ]
  },
  {
   "cell_type": "markdown",
   "metadata": {
    "id": "sWVxaz-k1syA"
   },
   "source": [
    "## Задание 1\n",
    "\n",
    "Вывести список из i элементов равных i в ряду четных цифр от 1 до 7"
   ]
  },
  {
   "cell_type": "code",
   "execution_count": 1,
   "metadata": {
    "id": "5KdtXrYL1zDq"
   },
   "outputs": [
    {
     "name": "stdout",
     "output_type": "stream",
     "text": [
      "[[1], [3, 3, 3], [5, 5, 5, 5, 5], [7, 7, 7, 7, 7, 7, 7]]\n"
     ]
    }
   ],
   "source": [
    "arr = [[i]*i for i in range(1, 8) if i % 2 != 0]\n",
    "print(arr)"
   ]
  },
  {
   "cell_type": "markdown",
   "metadata": {
    "id": "aqydDJo614zV"
   },
   "source": [
    "## Задание 2\n",
    "Вывести i-й элемент ряда и список из i элементов равных i в ряду четных цифр от 1 до 7 "
   ]
  },
  {
   "cell_type": "code",
   "execution_count": 2,
   "metadata": {
    "id": "BrpFxBSK2Blk"
   },
   "outputs": [
    {
     "name": "stdout",
     "output_type": "stream",
     "text": [
      "[2, [2, 2]] [4, [4, 4, 4, 4]] [6, [6, 6, 6, 6, 6, 6]]\n"
     ]
    }
   ],
   "source": [
    "arr = [[i, [i]*i] for i in range(1, 8) if i % 2 == 0]\n",
    "print(*arr)"
   ]
  },
  {
   "cell_type": "markdown",
   "metadata": {
    "id": "lE3d66M52Jo1"
   },
   "source": [
    "## Задание 3\n",
    "Вывести квадрат четных и куб нечетных цифр в ряду от 1 до 7"
   ]
  },
  {
   "cell_type": "code",
   "execution_count": 3,
   "metadata": {
    "id": "kepigtu52Tvm"
   },
   "outputs": [
    {
     "name": "stdout",
     "output_type": "stream",
     "text": [
      "1 4 27 16 125 36 343\n"
     ]
    }
   ],
   "source": [
    "arr = [i ** 2 if i % 2 == 0 else i ** 3 for i in range(1, 8)]\n",
    "print(*arr)"
   ]
  },
  {
   "cell_type": "markdown",
   "metadata": {
    "id": "QECpeA-O29dR"
   },
   "source": [
    "# Задание для развлечения \n",
    "\n",
    "Напишите код, который считает сумму элементов между минимальным и максимальным элементом массива из 15 элементов.\n",
    "\n",
    "Для этого кода напишите \"обёртку\", которая позволит рассчитать реальную занимаемую память при работе такого кода."
   ]
  },
  {
   "cell_type": "code",
   "execution_count": 5,
   "metadata": {},
   "outputs": [
    {
     "name": "stdout",
     "output_type": "stream",
     "text": [
      "a = [100, -41, -94, 7, -64, 11, -4, -92, -61, -4, 83, 53, 28, -96, -46]\n",
      "min = -96, max = 100\n",
      "minid = 13, maxid = 0\n",
      "sum = -178\n",
      "memory = 1431\n"
     ]
    }
   ],
   "source": [
    "import random\n",
    "import sys\n",
    "\n",
    "\n",
    "def get_size(x, level=0, print_res=True):\n",
    "    if print_res:\n",
    "        print('\\t' * level, f'type {x.__class__}, size={sys.getsizeof(x)}, object= {x}')\n",
    "    total_size = sys.getsizeof(x)\n",
    "\n",
    "    if hasattr(x, '__iter__'):\n",
    "        if hasattr(x, 'items'):\n",
    "            for xx in x.items():\n",
    "                total_size += get_size(xx, level + 1, print_res)\n",
    "        elif not isinstance(x, str):\n",
    "            for xx in x:\n",
    "                total_size += get_size(xx, level + 1, print_res)\n",
    "\n",
    "    return total_size\n",
    "\n",
    "def summary():\n",
    "    a = list(random.randint(-100, 100) for i in range(15))\n",
    "    print(f\"a = {a}\")\n",
    "    minimum = min(a)\n",
    "    maximum = max(a)\n",
    "    print(f\"min = {minimum}, max = {maximum}\")\n",
    "    minid = a.index(minimum)\n",
    "    maxid = a.index(maximum)\n",
    "    print(f\"minid = {minid}, maxid = {maxid}\")\n",
    "    summ = sum(a[min(minid, maxid):max(minid, maxid)]) - a[min(minid, maxid)]\n",
    "    print(f\"sum = {summ}\")\n",
    "    memory = sum(get_size(x, print_res = False) for x in locals().items())\n",
    "    print(f\"memory = {memory}\")\n",
    "\n",
    "summary()"
   ]
  },
  {
   "cell_type": "code",
   "execution_count": null,
   "metadata": {},
   "outputs": [],
   "source": []
  }
 ],
 "metadata": {
  "colab": {
   "collapsed_sections": [
    "sWVxaz-k1syA",
    "aqydDJo614zV",
    "lE3d66M52Jo1"
   ],
   "name": "201104 Python.ipynb",
   "provenance": [],
   "toc_visible": true
  },
  "kernelspec": {
   "display_name": "Python 3",
   "language": "python",
   "name": "python3"
  },
  "language_info": {
   "codemirror_mode": {
    "name": "ipython",
    "version": 3
   },
   "file_extension": ".py",
   "mimetype": "text/x-python",
   "name": "python",
   "nbconvert_exporter": "python",
   "pygments_lexer": "ipython3",
   "version": "3.8.3"
  }
 },
 "nbformat": 4,
 "nbformat_minor": 1
}
